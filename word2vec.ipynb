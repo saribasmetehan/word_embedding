{
  "nbformat": 4,
  "nbformat_minor": 0,
  "metadata": {
    "colab": {
      "provenance": [],
      "mount_file_id": "1FgmYPjkn-yYN97c49aTfz9uxu8BYsPHV",
      "authorship_tag": "ABX9TyO0elYBs/QviYRvj4W0M3bL",
      "include_colab_link": true
    },
    "kernelspec": {
      "name": "python3",
      "display_name": "Python 3"
    },
    "language_info": {
      "name": "python"
    }
  },
  "cells": [
    {
      "cell_type": "markdown",
      "metadata": {
        "id": "view-in-github",
        "colab_type": "text"
      },
      "source": [
        "<a href=\"https://colab.research.google.com/github/saribasmetehan/word_embedding/blob/main/word2vec.ipynb\" target=\"_parent\"><img src=\"https://colab.research.google.com/assets/colab-badge.svg\" alt=\"Open In Colab\"/></a>"
      ]
    },
    {
      "cell_type": "code",
      "execution_count": 1,
      "metadata": {
        "id": "68MVXQvv6m71"
      },
      "outputs": [],
      "source": [
        "import numpy as np\n",
        "from gensim.models import Word2Vec\n",
        "from sklearn.manifold import TSNE\n",
        "import matplotlib.pyplot as plt"
      ]
    },
    {
      "cell_type": "code",
      "source": [
        "dosya = open(\"hurriyet.txt\", \"r\", encoding=\"utf-8\")\n",
        "text = dosya.read()"
      ],
      "metadata": {
        "id": "sg3TZQPd90LQ"
      },
      "execution_count": 2,
      "outputs": []
    },
    {
      "cell_type": "code",
      "source": [
        "liste = text.split(\"\\n\")\n",
        "\n",
        "corpus = []\n",
        "\n",
        "for i in liste:\n",
        "    corpus.append(i.split())"
      ],
      "metadata": {
        "id": "1AoqfUJ3-C7J"
      },
      "execution_count": 3,
      "outputs": []
    },
    {
      "cell_type": "code",
      "source": [
        "corpus[:5]"
      ],
      "metadata": {
        "colab": {
          "base_uri": "https://localhost:8080/"
        },
        "id": "fTKgdRUt-gIT",
        "outputId": "3af58506-315c-4481-e763-e8de54c048a5"
      },
      "execution_count": 5,
      "outputs": [
        {
          "output_type": "execute_result",
          "data": {
            "text/plain": [
              "[['iran',\n",
              "  'devlet',\n",
              "  'televizyonu',\n",
              "  'ülkedeki',\n",
              "  'eyaletin',\n",
              "  'sinde',\n",
              "  'yapılan',\n",
              "  'reformcuları',\n",
              "  'protesto',\n",
              "  'amaçlı',\n",
              "  'yürüyüşlere',\n",
              "  'milyonlarca',\n",
              "  'kişinin',\n",
              "  'katıldığını',\n",
              "  'bildirdi'],\n",
              " ['gösterilerde',\n",
              "  'fitnecilere',\n",
              "  'ölüm',\n",
              "  'münafıklara',\n",
              "  'ölüm',\n",
              "  'abd',\n",
              "  'ye',\n",
              "  'ölüm',\n",
              "  'ingiltere',\n",
              "  'ye',\n",
              "  'ölüm',\n",
              "  'sloganları',\n",
              "  'atıldı'],\n",
              " ['dini',\n",
              "  'lider',\n",
              "  'ali',\n",
              "  'hamaney',\n",
              "  've',\n",
              "  'cumhurbaşkanı',\n",
              "  'mahmud',\n",
              "  'ahmedinejad',\n",
              "  'ı',\n",
              "  'destekleyen',\n",
              "  'iranlılar',\n",
              "  'son',\n",
              "  'olaylarda',\n",
              "  'yeğeni',\n",
              "  'öldürülen',\n",
              "  'mir',\n",
              "  'hüseyin',\n",
              "  'musevi',\n",
              "  'başta',\n",
              "  'olmak',\n",
              "  'üzere',\n",
              "  'muhalefet',\n",
              "  'liderlerini',\n",
              "  'kınadılar'],\n",
              " ['musevi', 'ye', 'ölüm', 've', 'idam', 'idam', 'sloganları', 'duyuldu'],\n",
              " ['muhalefet',\n",
              "  'liderleri',\n",
              "  'kaçtı',\n",
              "  'mı',\n",
              "  'aşure',\n",
              "  'günü',\n",
              "  'yaşanan',\n",
              "  'çatışmalarda',\n",
              "  'devlet',\n",
              "  'kaynaklarına',\n",
              "  'göre',\n",
              "  'u',\n",
              "  'terörist',\n",
              "  'olmak',\n",
              "  'üzere',\n",
              "  'kişi',\n",
              "  'ölmüştü']]"
            ]
          },
          "metadata": {},
          "execution_count": 5
        }
      ]
    },
    {
      "cell_type": "code",
      "source": [
        "model = Word2Vec(corpus, vector_size=120, min_count = 4, window = 5, sg =1)"
      ],
      "metadata": {
        "id": "pNkkmZEY-ibn"
      },
      "execution_count": 7,
      "outputs": []
    },
    {
      "cell_type": "code",
      "source": [
        "model.wv[\"türk\"]"
      ],
      "metadata": {
        "colab": {
          "base_uri": "https://localhost:8080/"
        },
        "id": "5_ui3iPJDr8v",
        "outputId": "a9e925f3-f879-410b-a1a6-5f814b217ca7"
      },
      "execution_count": 11,
      "outputs": [
        {
          "output_type": "execute_result",
          "data": {
            "text/plain": [
              "array([-0.43381652,  0.803292  ,  0.65283453, -0.07347751,  0.41698587,\n",
              "       -0.25564843,  0.4016631 ,  0.84513956, -0.73321027,  0.7159671 ,\n",
              "        0.11475489,  0.19970141,  0.04211995, -0.20655952, -0.71130234,\n",
              "       -0.09781556, -0.11523182, -0.18931437,  0.20654902, -0.2357964 ,\n",
              "       -0.44714487, -0.00123813,  0.20113128,  0.38853586,  0.56862104,\n",
              "       -0.23372285,  0.36411417, -0.0251121 ,  0.20900539,  0.09998941,\n",
              "       -0.26205483, -0.08579887, -0.6691021 , -0.5198433 , -0.2505492 ,\n",
              "        0.50952697,  0.64482814, -0.402293  , -0.17691077, -0.08099344,\n",
              "       -0.03394026, -0.4092633 , -0.27699554,  0.5149909 , -0.11892823,\n",
              "        0.38521674, -0.5115016 ,  0.1890616 , -0.25181788,  0.10682172,\n",
              "       -0.6963627 ,  0.26434958, -0.23781368, -0.2447913 ,  0.40222174,\n",
              "        0.9726886 , -0.41795152,  0.45890036, -0.13480425, -0.44714072,\n",
              "        0.47546145, -0.01737679, -0.49803904, -0.255947  , -0.17527291,\n",
              "        0.17339201, -0.05689408,  0.17790289,  0.11185829, -0.5976736 ,\n",
              "       -0.11978864,  0.38337594,  0.11566283, -0.7890577 ,  0.18168943,\n",
              "        0.05042136,  0.71383554, -0.0939341 , -0.44714454,  0.04639866,\n",
              "       -0.27021238, -0.30428585, -0.18937783,  0.8430646 ,  0.2816938 ,\n",
              "        0.07628433, -0.09782236, -0.4986027 ,  0.24587469,  0.53758055,\n",
              "       -0.45107192,  0.06279515, -0.07212397, -0.08210871,  0.70500606,\n",
              "        0.09704632, -0.7548649 ,  0.01360128, -0.4797567 ,  0.09922409,\n",
              "        0.42442662, -0.14163621,  0.10516597, -0.04583691, -0.04376919,\n",
              "       -0.40578467, -0.06565095, -0.23357607,  0.47556996,  0.24333778,\n",
              "        0.33969694,  0.10374957, -0.04424714,  0.6189111 , -0.05499675,\n",
              "        0.13875762,  0.33490467,  0.32460415,  0.23623903,  0.09569245],\n",
              "      dtype=float32)"
            ]
          },
          "metadata": {},
          "execution_count": 11
        }
      ]
    },
    {
      "cell_type": "code",
      "source": [
        "model.wv.most_similar(\"türk\")"
      ],
      "metadata": {
        "colab": {
          "base_uri": "https://localhost:8080/"
        },
        "id": "8pIHKgI5BJJQ",
        "outputId": "4a3823a0-0b2d-425b-8292-4fdcef352fe2"
      },
      "execution_count": 12,
      "outputs": [
        {
          "output_type": "execute_result",
          "data": {
            "text/plain": [
              "[('yunan', 0.6736249923706055),\n",
              " ('bulgar', 0.5768722295761108),\n",
              " ('alman', 0.5600562691688538),\n",
              " ('fransız', 0.5581880211830139),\n",
              " ('macar', 0.556028425693512),\n",
              " ('türkler', 0.547858476638794),\n",
              " ('türklerin', 0.5471532940864563),\n",
              " ('türkiye', 0.5398290157318115),\n",
              " ('amerikan', 0.5242961049079895),\n",
              " ('japon', 0.5183476209640503)]"
            ]
          },
          "metadata": {},
          "execution_count": 12
        }
      ]
    },
    {
      "cell_type": "code",
      "source": [
        "model.wv[\"matematik\"]"
      ],
      "metadata": {
        "colab": {
          "base_uri": "https://localhost:8080/"
        },
        "id": "gstzrAosDx4X",
        "outputId": "2121af19-697a-4044-bf38-9a1a9e088f0f"
      },
      "execution_count": 16,
      "outputs": [
        {
          "output_type": "execute_result",
          "data": {
            "text/plain": [
              "array([-0.2528651 , -0.10195666,  0.46231297,  0.2581923 , -0.346833  ,\n",
              "       -0.09259887, -0.04317873,  0.19181776, -0.39458597,  0.07099773,\n",
              "        0.31048363,  0.09922162,  0.37201884, -0.11054585, -0.36641556,\n",
              "        0.30928716, -0.09447381,  0.00320724, -0.223188  , -0.44012648,\n",
              "       -0.4089405 , -0.02216862, -0.18626386, -0.13944452,  0.10109536,\n",
              "       -0.07274967,  0.05245684, -0.07182456,  0.09728429, -0.38215655,\n",
              "        0.16925593, -0.05121646,  0.34794068,  0.35982502,  0.09169833,\n",
              "        0.33102694,  0.05080204, -0.17845294, -0.44164434, -0.09609696,\n",
              "       -0.01279119,  0.35982773, -0.08598809, -0.12812562,  0.30541363,\n",
              "        0.06503835,  0.06610928,  0.20929527, -0.05785113,  0.23944192,\n",
              "       -0.39924312, -0.13700831, -0.39481717,  0.18401013,  0.40646565,\n",
              "       -0.06074614,  0.36621326,  0.01163814,  0.3188865 ,  0.00837879,\n",
              "       -0.15037955,  0.09134894,  0.14736049,  0.23606837, -0.16300863,\n",
              "       -0.08018046, -0.29553497,  0.01997656,  0.18305616, -0.0168562 ,\n",
              "       -0.00219759,  0.26682183,  0.08164068, -0.14893453, -0.24386421,\n",
              "       -0.08699211,  0.00462332, -0.81639373, -0.3902973 ,  0.11322808,\n",
              "       -0.28618413,  0.3933061 , -0.13521424,  0.21646789,  0.35524413,\n",
              "        0.3954567 , -0.52069056,  0.0323082 ,  0.20837837,  0.21033438,\n",
              "       -0.27200413, -0.36907798,  0.03025566, -0.5353047 , -0.0093735 ,\n",
              "       -0.1094886 , -0.0375085 , -0.5517634 ,  0.16211827, -0.26291454,\n",
              "        0.13729556,  0.07309995, -0.12418748, -0.26521137, -0.09380256,\n",
              "        0.14194962, -0.16851304, -0.01162052,  0.06616484,  0.16206323,\n",
              "        0.19173096,  0.53099245,  0.03007336,  0.34667918, -0.09067844,\n",
              "       -0.17706883,  0.06561857,  0.38497433, -0.31199765, -0.05501683],\n",
              "      dtype=float32)"
            ]
          },
          "metadata": {},
          "execution_count": 16
        }
      ]
    },
    {
      "cell_type": "code",
      "source": [
        "model.wv.most_similar(\"matematik\")"
      ],
      "metadata": {
        "colab": {
          "base_uri": "https://localhost:8080/"
        },
        "id": "Z2fEnWnWEXMv",
        "outputId": "aa8a1d4c-d07a-408a-ce87-76f63649a315"
      },
      "execution_count": 17,
      "outputs": [
        {
          "output_type": "execute_result",
          "data": {
            "text/plain": [
              "[('fizik', 0.8654109835624695),\n",
              " ('fen', 0.8574573993682861),\n",
              " ('kimya', 0.8571209907531738),\n",
              " ('biyoloji', 0.8462091088294983),\n",
              " ('psikoloji', 0.8239389061927795),\n",
              " ('sosyoloji', 0.7965856790542603),\n",
              " ('bilimleri', 0.7954244613647461),\n",
              " ('araştırmacıları', 0.789320170879364),\n",
              " ('mikrobiyoloji', 0.7850539088249207),\n",
              " ('moleküler', 0.7839345932006836)]"
            ]
          },
          "metadata": {},
          "execution_count": 17
        }
      ]
    },
    {
      "cell_type": "code",
      "source": [
        "model.save(\"hurriyet.model\")"
      ],
      "metadata": {
        "id": "daoVl_YeEZhv"
      },
      "execution_count": 18,
      "outputs": []
    },
    {
      "cell_type": "code",
      "source": [
        "def colses(model,word):\n",
        "  word_vectors = np.empty((0,model.wv.vector_size))\n",
        "  word_labels = [word]\n",
        "\n",
        "  closes_words = model.wv.most_similar(word)\n",
        "\n",
        "  word_vectors = np.append(word_vectors, np.array([model.wv[word]]), axis=0)\n",
        "\n",
        "  for w, _ in closes_words:\n",
        "    word_vectors = np.append(word_vectors, np.array([model.wv[w]]), axis=0)\n",
        "    word_labels.append(w)\n",
        "\n",
        "  tsne = TSNE(n_components=2, random_state=0, perplexity=min(5, word_vectors.shape[0] - 1))\n",
        "  Y = tsne.fit_transform(word_vectors)\n",
        "\n",
        "  x_crd = Y[:, 0]\n",
        "  y_crd = Y[:, 1]\n",
        "  plt.scatter(x_crd, y_crd)\n",
        "\n",
        "  for label, x, y in zip(word_labels, x_crd, y_crd):\n",
        "    plt.annotate(label, xy=(x, y), xytext=(5, -2), textcoords='offset points')\n",
        "\n",
        "  plt.show()"
      ],
      "metadata": {
        "id": "LjpCOWjmEov2"
      },
      "execution_count": 26,
      "outputs": []
    },
    {
      "cell_type": "code",
      "source": [
        "colses(model,\"türk\")"
      ],
      "metadata": {
        "colab": {
          "base_uri": "https://localhost:8080/",
          "height": 430
        },
        "id": "FHrc8o-yJTi-",
        "outputId": "1464bf08-a934-4bac-a0dc-88a53af1dd37"
      },
      "execution_count": 31,
      "outputs": [
        {
          "output_type": "display_data",
          "data": {
            "text/plain": [
              "<Figure size 640x480 with 1 Axes>"
            ],
            "image/png": "[encoded data removed]"
          },
          "metadata": {}
        }
      ]
    },
    {
      "cell_type": "code",
      "source": [
        "colses(model,\"matematik\")"
      ],
      "metadata": {
        "colab": {
          "base_uri": "https://localhost:8080/",
          "height": 430
        },
        "id": "aPBQ2IIILAqt",
        "outputId": "c91db9a7-9566-4d9e-edd4-0bf64bff600b"
      },
      "execution_count": 32,
      "outputs": [
        {
          "output_type": "display_data",
          "data": {
            "text/plain": [
              "<Figure size 640x480 with 1 Axes>"
            ],
            "image/png": "[encoded data removed]"
          },
          "metadata": {}
        }
      ]
    },
    {
      "cell_type": "code",
      "source": [],
      "metadata": {
        "id": "0Qw1O3acLEwV"
      },
      "execution_count": null,
      "outputs": []
    }
  ]
}