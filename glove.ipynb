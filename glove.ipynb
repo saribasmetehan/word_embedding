{
  "nbformat": 4,
  "nbformat_minor": 0,
  "metadata": {
    "colab": {
      "provenance": [],
      "authorship_tag": "ABX9TyPTleuCIWQU9q6l3CDxtmsc",
      "include_colab_link": true
    },
    "kernelspec": {
      "name": "python3",
      "display_name": "Python 3"
    },
    "language_info": {
      "name": "python"
    }
  },
  "cells": [
    {
      "cell_type": "markdown",
      "metadata": {
        "id": "view-in-github",
        "colab_type": "text"
      },
      "source": [
        "<a href=\"https://colab.research.google.com/github/saribasmetehan/word_embedding/blob/main/glove.ipynb\" target=\"_parent\"><img src=\"https://colab.research.google.com/assets/colab-badge.svg\" alt=\"Open In Colab\"/></a>"
      ]
    },
    {
      "cell_type": "code",
      "execution_count": 1,
      "metadata": {
        "id": "Hu-Y6uP9dXNk"
      },
      "outputs": [],
      "source": [
        "from gensim.scripts.glove2word2vec import glove2word2vec\n",
        "from gensim.models import KeyedVectors"
      ]
    },
    {
      "cell_type": "code",
      "source": [
        "glove_input = \"glove.6B.100d.txt\"\n",
        "word2vec_output = \"glove.6B.100d.txt\"\n",
        "glove2word2vec(glove_input, word2vec_output)"
      ],
      "metadata": {
        "colab": {
          "base_uri": "https://localhost:8080/"
        },
        "id": "yMQAS2EtewBz",
        "outputId": "c174fd7f-8c7d-43ee-d168-049c9f9894ad"
      },
      "execution_count": 2,
      "outputs": [
        {
          "output_type": "stream",
          "name": "stderr",
          "text": [
            "<ipython-input-2-f0401026059f>:3: DeprecationWarning: Call to deprecated `glove2word2vec` (KeyedVectors.load_word2vec_format(.., binary=False, no_header=True) loads GLoVE text vectors.).\n",
            "  glove2word2vec(glove_input, word2vec_output)\n"
          ]
        },
        {
          "output_type": "execute_result",
          "data": {
            "text/plain": [
              "(62289, 100)"
            ]
          },
          "metadata": {},
          "execution_count": 2
        }
      ]
    },
    {
      "cell_type": "code",
      "source": [
        "model = KeyedVectors.load_word2vec_format(word2vec_output, binary=False)"
      ],
      "metadata": {
        "id": "rc540o4xfAxy"
      },
      "execution_count": 3,
      "outputs": []
    },
    {
      "cell_type": "code",
      "source": [
        "model[\"leonardo\"]"
      ],
      "metadata": {
        "colab": {
          "base_uri": "https://localhost:8080/"
        },
        "id": "KHJ1rdHlfIr7",
        "outputId": "29f68469-3c89-48f0-f1e1-104bfc54692d"
      },
      "execution_count": 8,
      "outputs": [
        {
          "output_type": "execute_result",
          "data": {
            "text/plain": [
              "array([ 0.4899  ,  0.45998 ,  0.16816 ,  0.003029, -0.043053, -0.49321 ,\n",
              "       -0.069196,  0.24355 ,  0.28233 ,  0.09699 ,  0.49129 , -0.3138  ,\n",
              "       -0.9177  ,  0.25867 ,  0.37581 , -0.4203  ,  1.0922  ,  0.48557 ,\n",
              "        0.65506 ,  0.46848 ,  0.04973 , -0.73894 , -0.1456  ,  0.42139 ,\n",
              "        0.63478 , -0.62391 ,  0.089962, -0.44702 ,  0.12752 , -0.46547 ,\n",
              "       -1.1711  , -0.45688 , -0.16621 ,  0.51876 ,  0.50287 ,  0.43141 ,\n",
              "        0.27346 ,  0.56466 , -0.054731,  0.098357, -0.026643,  0.1321  ,\n",
              "        0.6725  ,  0.090976, -0.10195 , -0.033843, -0.4956  , -0.16049 ,\n",
              "        0.0105  ,  1.1691  ,  0.57572 ,  0.24511 , -0.76335 ,  0.49798 ,\n",
              "       -0.76819 , -0.70044 , -0.71762 ,  0.83128 , -0.29381 ,  0.11172 ,\n",
              "       -0.19028 ,  1.4249  , -0.051494, -0.058251, -0.29377 , -0.099597,\n",
              "        0.19666 ,  0.50772 , -0.1395  ,  0.33472 ,  0.48339 ,  0.70704 ,\n",
              "        0.11313 , -0.56226 , -0.20878 , -0.55291 , -0.33779 ,  0.99091 ,\n",
              "       -0.10692 ,  0.40627 , -0.20364 , -0.14902 , -0.44396 , -0.06819 ,\n",
              "       -0.50038 , -0.2929  , -0.56518 ,  0.75828 , -0.54101 , -1.0452  ,\n",
              "        0.10209 , -0.32018 ,  0.34382 , -0.010654,  0.40431 , -0.23533 ,\n",
              "       -0.50604 , -0.68352 , -0.92197 , -0.65704 ], dtype=float32)"
            ]
          },
          "metadata": {},
          "execution_count": 8
        }
      ]
    },
    {
      "cell_type": "code",
      "source": [
        "model.most_similar(\"leonardo\")"
      ],
      "metadata": {
        "colab": {
          "base_uri": "https://localhost:8080/"
        },
        "id": "QhOgmoDyfw3a",
        "outputId": "16df9038-621c-464f-89aa-0def65d1d5a8"
      },
      "execution_count": 11,
      "outputs": [
        {
          "output_type": "execute_result",
          "data": {
            "text/plain": [
              "[('dicaprio', 0.7058767080307007),\n",
              " ('vinci', 0.6907042264938354),\n",
              " ('giovanni', 0.6602858304977417),\n",
              " ('michelangelo', 0.6450424194335938),\n",
              " ('da', 0.5940897464752197),\n",
              " ('serra', 0.5671014785766602),\n",
              " ('cristiano', 0.5636624097824097),\n",
              " ('francesco', 0.5556216835975647),\n",
              " ('marco', 0.5506014823913574),\n",
              " ('roberto', 0.5498470067977905)]"
            ]
          },
          "metadata": {},
          "execution_count": 11
        }
      ]
    },
    {
      "cell_type": "code",
      "source": [
        "model.most_similar(\"strong\")"
      ],
      "metadata": {
        "colab": {
          "base_uri": "https://localhost:8080/"
        },
        "id": "rfLczmngf3iq",
        "outputId": "145a71f1-7c8e-4fd5-d58d-6fc5099909b2"
      },
      "execution_count": 12,
      "outputs": [
        {
          "output_type": "execute_result",
          "data": {
            "text/plain": [
              "[('stronger', 0.8151372075080872),\n",
              " ('despite', 0.7666836380958557),\n",
              " ('weak', 0.762651264667511),\n",
              " ('solid', 0.7440534830093384),\n",
              " ('very', 0.7392503023147583),\n",
              " ('strongest', 0.734740674495697),\n",
              " ('good', 0.734606921672821),\n",
              " ('strength', 0.7275192737579346),\n",
              " ('particularly', 0.7237381339073181),\n",
              " ('robust', 0.7202985286712646)]"
            ]
          },
          "metadata": {},
          "execution_count": 12
        }
      ]
    },
    {
      "cell_type": "code",
      "source": [
        "model.most_similar(\"breaking\")"
      ],
      "metadata": {
        "colab": {
          "base_uri": "https://localhost:8080/"
        },
        "id": "FECaQ3gUgRcy",
        "outputId": "8349d573-419e-4034-8b56-aa21f1f8b6b0"
      },
      "execution_count": 14,
      "outputs": [
        {
          "output_type": "execute_result",
          "data": {
            "text/plain": [
              "[('break', 0.8061867356300354),\n",
              " ('broke', 0.7616093158721924),\n",
              " ('broken', 0.7281357645988464),\n",
              " ('putting', 0.7064858675003052),\n",
              " ('turning', 0.696088433265686),\n",
              " ('apart', 0.6917322278022766),\n",
              " ('start', 0.6826692819595337),\n",
              " ('throwing', 0.6762452125549316),\n",
              " ('setting', 0.6752533912658691),\n",
              " ('down', 0.6717815399169922)]"
            ]
          },
          "metadata": {},
          "execution_count": 14
        }
      ]
    },
    {
      "cell_type": "code",
      "source": [
        "model.most_similar(positive=[\"man\",\"football\"], topn=1)"
      ],
      "metadata": {
        "colab": {
          "base_uri": "https://localhost:8080/"
        },
        "id": "aBZiBjsogaBL",
        "outputId": "b991abfe-2924-4aa4-d0f6-767785e70bfc"
      },
      "execution_count": 16,
      "outputs": [
        {
          "output_type": "execute_result",
          "data": {
            "text/plain": [
              "[('player', 0.767274796962738)]"
            ]
          },
          "metadata": {},
          "execution_count": 16
        }
      ]
    },
    {
      "cell_type": "code",
      "source": [
        "model.most_similar(positive=[\"man\",\"army\"], topn=1)"
      ],
      "metadata": {
        "colab": {
          "base_uri": "https://localhost:8080/"
        },
        "id": "r95kJUBbhZVa",
        "outputId": "f1b58f47-e7d9-40ea-93f9-a7378ed36578"
      },
      "execution_count": 17,
      "outputs": [
        {
          "output_type": "execute_result",
          "data": {
            "text/plain": [
              "[('soldier', 0.8090531229972839)]"
            ]
          },
          "metadata": {},
          "execution_count": 17
        }
      ]
    },
    {
      "cell_type": "code",
      "source": [
        "model.most_similar(positive=[\"king\",\"woman\"], negative=[\"man\"], topn=1)"
      ],
      "metadata": {
        "colab": {
          "base_uri": "https://localhost:8080/"
        },
        "id": "z6aq_jjMhnuq",
        "outputId": "95459b05-7608-46a4-ca9a-610b2e45c918"
      },
      "execution_count": 31,
      "outputs": [
        {
          "output_type": "execute_result",
          "data": {
            "text/plain": [
              "[('queen', 0.7698540687561035)]"
            ]
          },
          "metadata": {},
          "execution_count": 31
        }
      ]
    },
    {
      "cell_type": "code",
      "source": [],
      "metadata": {
        "id": "4Zjay7fuhvNy"
      },
      "execution_count": null,
      "outputs": []
    }
  ]
}